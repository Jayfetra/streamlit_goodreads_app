{
 "cells": [
  {
   "cell_type": "code",
   "execution_count": 2,
   "id": "53f97e4a",
   "metadata": {},
   "outputs": [],
   "source": [
    "import streamlit as st\n",
    "import pandas as pd\n",
    "import plotly.express as px\n",
    "from datetime import date, datetime, timedelta\n",
    "import warnings\n",
    "import pytz\n",
    "import streamlit.components.v1 as components\n",
    "\n",
    "\n",
    "from tzlocal import get_localzone  # pip install tzlocal\n",
    "import time\n",
    "import chess\n",
    "import chess.pgn\n",
    "import io\n",
    "import pprint\n",
    "import requests\n",
    "warnings.filterwarnings('ignore')\n",
    "import chess_com_download\n",
    "from streamlit_javascript import st_javascript\n",
    "from pytz import timezone\n",
    "\n",
    "from chess_com_download import test_function_test\n",
    "from chess_com_download import opening_database\n",
    "from chess_com_download import download_data_chess_com\n",
    "from chess_com_download import pre_analysis_chessgame\n",
    "from chess_com_download import analyze_chess_games\n",
    "from chess_com_download import prepare_game_data\n",
    "from chess_com_download import insert_to_supabase\n",
    "\n",
    "\n",
    "from supabase import create_client, Client\n",
    "from datetime import datetime\n",
    "import pytz\n",
    "\n",
    "\n",
    "import streamlit.runtime.app_session as app_session\n",
    "\n",
    "if not hasattr(app_session.AppSession, \"_scriptrunner\"):\n",
    "    app_session.AppSession._scriptrunner = None\n",
    "\n"
   ]
  },
  {
   "cell_type": "code",
   "execution_count": 3,
   "id": "33a6e3dc",
   "metadata": {},
   "outputs": [
    {
     "name": "stderr",
     "output_type": "stream",
     "text": [
      "2025-08-23 00:19:44.077 WARNING streamlit.runtime.state.session_state_proxy: Session state does not function when running a script without `streamlit run`\n"
     ]
    },
    {
     "data": {
      "text/html": [
       "<div>\n",
       "<style scoped>\n",
       "    .dataframe tbody tr th:only-of-type {\n",
       "        vertical-align: middle;\n",
       "    }\n",
       "\n",
       "    .dataframe tbody tr th {\n",
       "        vertical-align: top;\n",
       "    }\n",
       "\n",
       "    .dataframe thead th {\n",
       "        text-align: right;\n",
       "    }\n",
       "</style>\n",
       "<table border=\"1\" class=\"dataframe\">\n",
       "  <thead>\n",
       "    <tr style=\"text-align: right;\">\n",
       "      <th></th>\n",
       "      <th>pgn</th>\n",
       "      <th>game_class</th>\n",
       "      <th>game_id</th>\n",
       "      <th>created_date</th>\n",
       "      <th>opening</th>\n",
       "      <th>white_username</th>\n",
       "      <th>black_username</th>\n",
       "      <th>game_result</th>\n",
       "      <th>start_time</th>\n",
       "      <th>end_time</th>\n",
       "      <th>termination</th>\n",
       "      <th>white_elo</th>\n",
       "      <th>black_elo</th>\n",
       "      <th>TimeControl</th>\n",
       "    </tr>\n",
       "  </thead>\n",
       "  <tbody>\n",
       "    <tr>\n",
       "      <th>0</th>\n",
       "      <td>[Event \"Live Chess\"]\\n[Site \"Chess.com\"]\\n[Dat...</td>\n",
       "      <td>blitz</td>\n",
       "      <td>https://www.chess.com/game/live/140202902396</td>\n",
       "      <td>2025.07.01</td>\n",
       "      <td>0    A00\n",
       "Name: ECO, dtype: object</td>\n",
       "      <td>Tofail_Ali</td>\n",
       "      <td>jay_fh</td>\n",
       "      <td>0-1</td>\n",
       "      <td>08:46:07</td>\n",
       "      <td>08:49:14</td>\n",
       "      <td>jay_fh won by resignation</td>\n",
       "      <td>1930</td>\n",
       "      <td>1965</td>\n",
       "      <td>300</td>\n",
       "    </tr>\n",
       "    <tr>\n",
       "      <th>1</th>\n",
       "      <td>[Event \"Live Chess\"]\\n[Site \"Chess.com\"]\\n[Dat...</td>\n",
       "      <td>blitz</td>\n",
       "      <td>https://www.chess.com/game/live/140206596350</td>\n",
       "      <td>2025.07.01</td>\n",
       "      <td>0    D53\n",
       "Name: ECO, dtype: object</td>\n",
       "      <td>Margros</td>\n",
       "      <td>jay_fh</td>\n",
       "      <td>0-1</td>\n",
       "      <td>11:07:55</td>\n",
       "      <td>11:10:43</td>\n",
       "      <td>jay_fh won by resignation</td>\n",
       "      <td>1971</td>\n",
       "      <td>1973</td>\n",
       "      <td>300</td>\n",
       "    </tr>\n",
       "    <tr>\n",
       "      <th>2</th>\n",
       "      <td>[Event \"Live Chess\"]\\n[Site \"Chess.com\"]\\n[Dat...</td>\n",
       "      <td>blitz</td>\n",
       "      <td>https://www.chess.com/game/live/140206897770</td>\n",
       "      <td>2025.07.01</td>\n",
       "      <td>0    A41\n",
       "Name: ECO, dtype: object</td>\n",
       "      <td>jay_fh</td>\n",
       "      <td>Stivasarev</td>\n",
       "      <td>1-0</td>\n",
       "      <td>11:18:28</td>\n",
       "      <td>11:24:18</td>\n",
       "      <td>jay_fh won by resignation</td>\n",
       "      <td>1980</td>\n",
       "      <td>1905</td>\n",
       "      <td>300</td>\n",
       "    </tr>\n",
       "    <tr>\n",
       "      <th>3</th>\n",
       "      <td>[Event \"Live Chess\"]\\n[Site \"Chess.com\"]\\n[Dat...</td>\n",
       "      <td>blitz</td>\n",
       "      <td>https://www.chess.com/game/live/140218108456</td>\n",
       "      <td>2025.07.01</td>\n",
       "      <td>0    D02\n",
       "Name: ECO, dtype: object</td>\n",
       "      <td>jay_fh</td>\n",
       "      <td>hakan1248</td>\n",
       "      <td>1-0</td>\n",
       "      <td>16:59:35</td>\n",
       "      <td>17:05:56</td>\n",
       "      <td>jay_fh won by resignation</td>\n",
       "      <td>1989</td>\n",
       "      <td>1996</td>\n",
       "      <td>300</td>\n",
       "    </tr>\n",
       "    <tr>\n",
       "      <th>4</th>\n",
       "      <td>[Event \"Live Chess\"]\\n[Site \"Chess.com\"]\\n[Dat...</td>\n",
       "      <td>blitz</td>\n",
       "      <td>https://www.chess.com/game/live/140218326164</td>\n",
       "      <td>2025.07.01</td>\n",
       "      <td>0    A40\n",
       "Name: ECO, dtype: object</td>\n",
       "      <td>jay_fh</td>\n",
       "      <td>djsanil</td>\n",
       "      <td>1/2-1/2</td>\n",
       "      <td>17:06:01</td>\n",
       "      <td>17:16:14</td>\n",
       "      <td>Game drawn by timeout vs insufficient material</td>\n",
       "      <td>1990</td>\n",
       "      <td>2014</td>\n",
       "      <td>300</td>\n",
       "    </tr>\n",
       "  </tbody>\n",
       "</table>\n",
       "</div>"
      ],
      "text/plain": [
       "                                                 pgn game_class  \\\n",
       "0  [Event \"Live Chess\"]\\n[Site \"Chess.com\"]\\n[Dat...      blitz   \n",
       "1  [Event \"Live Chess\"]\\n[Site \"Chess.com\"]\\n[Dat...      blitz   \n",
       "2  [Event \"Live Chess\"]\\n[Site \"Chess.com\"]\\n[Dat...      blitz   \n",
       "3  [Event \"Live Chess\"]\\n[Site \"Chess.com\"]\\n[Dat...      blitz   \n",
       "4  [Event \"Live Chess\"]\\n[Site \"Chess.com\"]\\n[Dat...      blitz   \n",
       "\n",
       "                                        game_id created_date  \\\n",
       "0  https://www.chess.com/game/live/140202902396   2025.07.01   \n",
       "1  https://www.chess.com/game/live/140206596350   2025.07.01   \n",
       "2  https://www.chess.com/game/live/140206897770   2025.07.01   \n",
       "3  https://www.chess.com/game/live/140218108456   2025.07.01   \n",
       "4  https://www.chess.com/game/live/140218326164   2025.07.01   \n",
       "\n",
       "                             opening white_username black_username  \\\n",
       "0  0    A00\n",
       "Name: ECO, dtype: object     Tofail_Ali         jay_fh   \n",
       "1  0    D53\n",
       "Name: ECO, dtype: object        Margros         jay_fh   \n",
       "2  0    A41\n",
       "Name: ECO, dtype: object         jay_fh     Stivasarev   \n",
       "3  0    D02\n",
       "Name: ECO, dtype: object         jay_fh      hakan1248   \n",
       "4  0    A40\n",
       "Name: ECO, dtype: object         jay_fh        djsanil   \n",
       "\n",
       "  game_result start_time  end_time  \\\n",
       "0         0-1   08:46:07  08:49:14   \n",
       "1         0-1   11:07:55  11:10:43   \n",
       "2         1-0   11:18:28  11:24:18   \n",
       "3         1-0   16:59:35  17:05:56   \n",
       "4     1/2-1/2   17:06:01  17:16:14   \n",
       "\n",
       "                                      termination white_elo black_elo  \\\n",
       "0                       jay_fh won by resignation      1930      1965   \n",
       "1                       jay_fh won by resignation      1971      1973   \n",
       "2                       jay_fh won by resignation      1980      1905   \n",
       "3                       jay_fh won by resignation      1989      1996   \n",
       "4  Game drawn by timeout vs insufficient material      1990      2014   \n",
       "\n",
       "  TimeControl  \n",
       "0         300  \n",
       "1         300  \n",
       "2         300  \n",
       "3         300  \n",
       "4         300  "
      ]
     },
     "metadata": {},
     "output_type": "display_data"
    },
    {
     "data": {
      "text/html": [
       "<div>\n",
       "<style scoped>\n",
       "    .dataframe tbody tr th:only-of-type {\n",
       "        vertical-align: middle;\n",
       "    }\n",
       "\n",
       "    .dataframe tbody tr th {\n",
       "        vertical-align: top;\n",
       "    }\n",
       "\n",
       "    .dataframe thead th {\n",
       "        text-align: right;\n",
       "    }\n",
       "</style>\n",
       "<table border=\"1\" class=\"dataframe\">\n",
       "  <thead>\n",
       "    <tr style=\"text-align: right;\">\n",
       "      <th></th>\n",
       "      <th>pgn</th>\n",
       "      <th>game_class</th>\n",
       "      <th>game_id</th>\n",
       "      <th>created_date</th>\n",
       "      <th>opening</th>\n",
       "      <th>white_username</th>\n",
       "      <th>black_username</th>\n",
       "      <th>game_result</th>\n",
       "      <th>start_time</th>\n",
       "      <th>end_time</th>\n",
       "      <th>...</th>\n",
       "      <th>opening_name</th>\n",
       "      <th>duration_minutes</th>\n",
       "      <th>hour_of_day</th>\n",
       "      <th>time_of_day</th>\n",
       "      <th>user_side</th>\n",
       "      <th>opponent_username</th>\n",
       "      <th>game_result_user</th>\n",
       "      <th>termination_category</th>\n",
       "      <th>termination_type</th>\n",
       "      <th>simplified_opening</th>\n",
       "    </tr>\n",
       "  </thead>\n",
       "  <tbody>\n",
       "    <tr>\n",
       "      <th>0</th>\n",
       "      <td>[Event \"Live Chess\"]\\n[Site \"Chess.com\"]\\n[Dat...</td>\n",
       "      <td>blitz</td>\n",
       "      <td>https://www.chess.com/game/live/140202902396</td>\n",
       "      <td>2025-07-01</td>\n",
       "      <td>0    A00\n",
       "Name: ECO, dtype: object</td>\n",
       "      <td>Tofail_Ali</td>\n",
       "      <td>jay_fh</td>\n",
       "      <td>0-1</td>\n",
       "      <td>08:46:07</td>\n",
       "      <td>08:49:14</td>\n",
       "      <td>...</td>\n",
       "      <td>Hungarian Opening</td>\n",
       "      <td>3.116667</td>\n",
       "      <td>15</td>\n",
       "      <td>morning 6am -6 pm</td>\n",
       "      <td>black</td>\n",
       "      <td>Tofail_Ali</td>\n",
       "      <td>win</td>\n",
       "      <td>win by resignation</td>\n",
       "      <td>resignation</td>\n",
       "      <td>Hungarian Opening</td>\n",
       "    </tr>\n",
       "    <tr>\n",
       "      <th>1</th>\n",
       "      <td>[Event \"Live Chess\"]\\n[Site \"Chess.com\"]\\n[Dat...</td>\n",
       "      <td>blitz</td>\n",
       "      <td>https://www.chess.com/game/live/140206596350</td>\n",
       "      <td>2025-07-01</td>\n",
       "      <td>0    D53\n",
       "Name: ECO, dtype: object</td>\n",
       "      <td>Margros</td>\n",
       "      <td>jay_fh</td>\n",
       "      <td>0-1</td>\n",
       "      <td>11:07:55</td>\n",
       "      <td>11:10:43</td>\n",
       "      <td>...</td>\n",
       "      <td>English Opening: Anglo-Indian Defense, Queen's...</td>\n",
       "      <td>2.800000</td>\n",
       "      <td>18</td>\n",
       "      <td>evening 6pm - 6am</td>\n",
       "      <td>black</td>\n",
       "      <td>Margros</td>\n",
       "      <td>win</td>\n",
       "      <td>win by resignation</td>\n",
       "      <td>resignation</td>\n",
       "      <td>English Opening</td>\n",
       "    </tr>\n",
       "    <tr>\n",
       "      <th>2</th>\n",
       "      <td>[Event \"Live Chess\"]\\n[Site \"Chess.com\"]\\n[Dat...</td>\n",
       "      <td>blitz</td>\n",
       "      <td>https://www.chess.com/game/live/140206897770</td>\n",
       "      <td>2025-07-01</td>\n",
       "      <td>0    A41\n",
       "Name: ECO, dtype: object</td>\n",
       "      <td>jay_fh</td>\n",
       "      <td>Stivasarev</td>\n",
       "      <td>1-0</td>\n",
       "      <td>11:18:28</td>\n",
       "      <td>11:24:18</td>\n",
       "      <td>...</td>\n",
       "      <td>Old Indian Defense</td>\n",
       "      <td>5.833333</td>\n",
       "      <td>18</td>\n",
       "      <td>evening 6pm - 6am</td>\n",
       "      <td>white</td>\n",
       "      <td>Stivasarev</td>\n",
       "      <td>win</td>\n",
       "      <td>win by resignation</td>\n",
       "      <td>resignation</td>\n",
       "      <td>Old Indian Defense</td>\n",
       "    </tr>\n",
       "    <tr>\n",
       "      <th>3</th>\n",
       "      <td>[Event \"Live Chess\"]\\n[Site \"Chess.com\"]\\n[Dat...</td>\n",
       "      <td>blitz</td>\n",
       "      <td>https://www.chess.com/game/live/140218108456</td>\n",
       "      <td>2025-07-01</td>\n",
       "      <td>0    D02\n",
       "Name: ECO, dtype: object</td>\n",
       "      <td>jay_fh</td>\n",
       "      <td>hakan1248</td>\n",
       "      <td>1-0</td>\n",
       "      <td>16:59:35</td>\n",
       "      <td>17:05:56</td>\n",
       "      <td>...</td>\n",
       "      <td>Queen's Pawn Game</td>\n",
       "      <td>6.350000</td>\n",
       "      <td>23</td>\n",
       "      <td>NaN</td>\n",
       "      <td>white</td>\n",
       "      <td>hakan1248</td>\n",
       "      <td>win</td>\n",
       "      <td>win by resignation</td>\n",
       "      <td>resignation</td>\n",
       "      <td>Queen's Pawn Game</td>\n",
       "    </tr>\n",
       "    <tr>\n",
       "      <th>4</th>\n",
       "      <td>[Event \"Live Chess\"]\\n[Site \"Chess.com\"]\\n[Dat...</td>\n",
       "      <td>blitz</td>\n",
       "      <td>https://www.chess.com/game/live/140218326164</td>\n",
       "      <td>2025-07-01</td>\n",
       "      <td>0    A40\n",
       "Name: ECO, dtype: object</td>\n",
       "      <td>jay_fh</td>\n",
       "      <td>djsanil</td>\n",
       "      <td>1/2-1/2</td>\n",
       "      <td>17:06:01</td>\n",
       "      <td>17:16:14</td>\n",
       "      <td>...</td>\n",
       "      <td>Benoni Defense: Franco-Sicilian Hybrid</td>\n",
       "      <td>10.216667</td>\n",
       "      <td>0</td>\n",
       "      <td>evening 6pm - 6am</td>\n",
       "      <td>white</td>\n",
       "      <td>djsanil</td>\n",
       "      <td>draw</td>\n",
       "      <td>draw by insufficient material</td>\n",
       "      <td>material</td>\n",
       "      <td>Benoni Defense</td>\n",
       "    </tr>\n",
       "  </tbody>\n",
       "</table>\n",
       "<p>5 rows × 34 columns</p>\n",
       "</div>"
      ],
      "text/plain": [
       "                                                 pgn game_class  \\\n",
       "0  [Event \"Live Chess\"]\\n[Site \"Chess.com\"]\\n[Dat...      blitz   \n",
       "1  [Event \"Live Chess\"]\\n[Site \"Chess.com\"]\\n[Dat...      blitz   \n",
       "2  [Event \"Live Chess\"]\\n[Site \"Chess.com\"]\\n[Dat...      blitz   \n",
       "3  [Event \"Live Chess\"]\\n[Site \"Chess.com\"]\\n[Dat...      blitz   \n",
       "4  [Event \"Live Chess\"]\\n[Site \"Chess.com\"]\\n[Dat...      blitz   \n",
       "\n",
       "                                        game_id created_date  \\\n",
       "0  https://www.chess.com/game/live/140202902396   2025-07-01   \n",
       "1  https://www.chess.com/game/live/140206596350   2025-07-01   \n",
       "2  https://www.chess.com/game/live/140206897770   2025-07-01   \n",
       "3  https://www.chess.com/game/live/140218108456   2025-07-01   \n",
       "4  https://www.chess.com/game/live/140218326164   2025-07-01   \n",
       "\n",
       "                             opening white_username black_username  \\\n",
       "0  0    A00\n",
       "Name: ECO, dtype: object     Tofail_Ali         jay_fh   \n",
       "1  0    D53\n",
       "Name: ECO, dtype: object        Margros         jay_fh   \n",
       "2  0    A41\n",
       "Name: ECO, dtype: object         jay_fh     Stivasarev   \n",
       "3  0    D02\n",
       "Name: ECO, dtype: object         jay_fh      hakan1248   \n",
       "4  0    A40\n",
       "Name: ECO, dtype: object         jay_fh        djsanil   \n",
       "\n",
       "  game_result start_time  end_time  ...  \\\n",
       "0         0-1   08:46:07  08:49:14  ...   \n",
       "1         0-1   11:07:55  11:10:43  ...   \n",
       "2         1-0   11:18:28  11:24:18  ...   \n",
       "3         1-0   16:59:35  17:05:56  ...   \n",
       "4     1/2-1/2   17:06:01  17:16:14  ...   \n",
       "\n",
       "                                        opening_name  duration_minutes  \\\n",
       "0                                  Hungarian Opening          3.116667   \n",
       "1  English Opening: Anglo-Indian Defense, Queen's...          2.800000   \n",
       "2                                 Old Indian Defense          5.833333   \n",
       "3                                  Queen's Pawn Game          6.350000   \n",
       "4             Benoni Defense: Franco-Sicilian Hybrid         10.216667   \n",
       "\n",
       "   hour_of_day        time_of_day user_side opponent_username  \\\n",
       "0           15  morning 6am -6 pm     black        Tofail_Ali   \n",
       "1           18  evening 6pm - 6am     black           Margros   \n",
       "2           18  evening 6pm - 6am     white        Stivasarev   \n",
       "3           23                NaN     white         hakan1248   \n",
       "4            0  evening 6pm - 6am     white           djsanil   \n",
       "\n",
       "  game_result_user           termination_category termination_type  \\\n",
       "0              win             win by resignation      resignation   \n",
       "1              win             win by resignation      resignation   \n",
       "2              win             win by resignation      resignation   \n",
       "3              win             win by resignation      resignation   \n",
       "4             draw  draw by insufficient material         material   \n",
       "\n",
       "   simplified_opening  \n",
       "0   Hungarian Opening  \n",
       "1     English Opening  \n",
       "2  Old Indian Defense  \n",
       "3   Queen's Pawn Game  \n",
       "4      Benoni Defense  \n",
       "\n",
       "[5 rows x 34 columns]"
      ]
     },
     "metadata": {},
     "output_type": "display_data"
    },
    {
     "name": "stdout",
     "output_type": "stream",
     "text": [
      "Index(['300'], dtype='object', name='TimeControl')\n"
     ]
    },
    {
     "data": {
      "text/html": [
       "<div>\n",
       "<style scoped>\n",
       "    .dataframe tbody tr th:only-of-type {\n",
       "        vertical-align: middle;\n",
       "    }\n",
       "\n",
       "    .dataframe tbody tr th {\n",
       "        vertical-align: top;\n",
       "    }\n",
       "\n",
       "    .dataframe thead th {\n",
       "        text-align: right;\n",
       "    }\n",
       "</style>\n",
       "<table border=\"1\" class=\"dataframe\">\n",
       "  <thead>\n",
       "    <tr style=\"text-align: right;\">\n",
       "      <th></th>\n",
       "      <th>pgn</th>\n",
       "      <th>game_class</th>\n",
       "      <th>game_id</th>\n",
       "      <th>created_date</th>\n",
       "      <th>opening</th>\n",
       "      <th>white_username</th>\n",
       "      <th>black_username</th>\n",
       "      <th>game_result</th>\n",
       "      <th>start_time</th>\n",
       "      <th>end_time</th>\n",
       "      <th>...</th>\n",
       "      <th>opening_name</th>\n",
       "      <th>duration_minutes</th>\n",
       "      <th>hour_of_day</th>\n",
       "      <th>time_of_day</th>\n",
       "      <th>user_side</th>\n",
       "      <th>opponent_username</th>\n",
       "      <th>game_result_user</th>\n",
       "      <th>termination_category</th>\n",
       "      <th>termination_type</th>\n",
       "      <th>simplified_opening</th>\n",
       "    </tr>\n",
       "  </thead>\n",
       "  <tbody>\n",
       "    <tr>\n",
       "      <th>0</th>\n",
       "      <td>[Event \"Live Chess\"]\\n[Site \"Chess.com\"]\\n[Dat...</td>\n",
       "      <td>blitz</td>\n",
       "      <td>https://www.chess.com/game/live/140202902396</td>\n",
       "      <td>2025-07-01</td>\n",
       "      <td>0    A00\n",
       "Name: ECO, dtype: object</td>\n",
       "      <td>Tofail_Ali</td>\n",
       "      <td>jay_fh</td>\n",
       "      <td>0-1</td>\n",
       "      <td>08:46:07</td>\n",
       "      <td>08:49:14</td>\n",
       "      <td>...</td>\n",
       "      <td>Hungarian Opening</td>\n",
       "      <td>3.116667</td>\n",
       "      <td>15</td>\n",
       "      <td>morning 6am -6 pm</td>\n",
       "      <td>black</td>\n",
       "      <td>Tofail_Ali</td>\n",
       "      <td>win</td>\n",
       "      <td>win by resignation</td>\n",
       "      <td>resignation</td>\n",
       "      <td>Hungarian Opening</td>\n",
       "    </tr>\n",
       "    <tr>\n",
       "      <th>1</th>\n",
       "      <td>[Event \"Live Chess\"]\\n[Site \"Chess.com\"]\\n[Dat...</td>\n",
       "      <td>blitz</td>\n",
       "      <td>https://www.chess.com/game/live/140206596350</td>\n",
       "      <td>2025-07-01</td>\n",
       "      <td>0    D53\n",
       "Name: ECO, dtype: object</td>\n",
       "      <td>Margros</td>\n",
       "      <td>jay_fh</td>\n",
       "      <td>0-1</td>\n",
       "      <td>11:07:55</td>\n",
       "      <td>11:10:43</td>\n",
       "      <td>...</td>\n",
       "      <td>English Opening: Anglo-Indian Defense, Queen's...</td>\n",
       "      <td>2.800000</td>\n",
       "      <td>18</td>\n",
       "      <td>evening 6pm - 6am</td>\n",
       "      <td>black</td>\n",
       "      <td>Margros</td>\n",
       "      <td>win</td>\n",
       "      <td>win by resignation</td>\n",
       "      <td>resignation</td>\n",
       "      <td>English Opening</td>\n",
       "    </tr>\n",
       "    <tr>\n",
       "      <th>2</th>\n",
       "      <td>[Event \"Live Chess\"]\\n[Site \"Chess.com\"]\\n[Dat...</td>\n",
       "      <td>blitz</td>\n",
       "      <td>https://www.chess.com/game/live/140206897770</td>\n",
       "      <td>2025-07-01</td>\n",
       "      <td>0    A41\n",
       "Name: ECO, dtype: object</td>\n",
       "      <td>jay_fh</td>\n",
       "      <td>Stivasarev</td>\n",
       "      <td>1-0</td>\n",
       "      <td>11:18:28</td>\n",
       "      <td>11:24:18</td>\n",
       "      <td>...</td>\n",
       "      <td>Old Indian Defense</td>\n",
       "      <td>5.833333</td>\n",
       "      <td>18</td>\n",
       "      <td>evening 6pm - 6am</td>\n",
       "      <td>white</td>\n",
       "      <td>Stivasarev</td>\n",
       "      <td>win</td>\n",
       "      <td>win by resignation</td>\n",
       "      <td>resignation</td>\n",
       "      <td>Old Indian Defense</td>\n",
       "    </tr>\n",
       "    <tr>\n",
       "      <th>3</th>\n",
       "      <td>[Event \"Live Chess\"]\\n[Site \"Chess.com\"]\\n[Dat...</td>\n",
       "      <td>blitz</td>\n",
       "      <td>https://www.chess.com/game/live/140218108456</td>\n",
       "      <td>2025-07-01</td>\n",
       "      <td>0    D02\n",
       "Name: ECO, dtype: object</td>\n",
       "      <td>jay_fh</td>\n",
       "      <td>hakan1248</td>\n",
       "      <td>1-0</td>\n",
       "      <td>16:59:35</td>\n",
       "      <td>17:05:56</td>\n",
       "      <td>...</td>\n",
       "      <td>Queen's Pawn Game</td>\n",
       "      <td>6.350000</td>\n",
       "      <td>23</td>\n",
       "      <td>NaN</td>\n",
       "      <td>white</td>\n",
       "      <td>hakan1248</td>\n",
       "      <td>win</td>\n",
       "      <td>win by resignation</td>\n",
       "      <td>resignation</td>\n",
       "      <td>Queen's Pawn Game</td>\n",
       "    </tr>\n",
       "    <tr>\n",
       "      <th>4</th>\n",
       "      <td>[Event \"Live Chess\"]\\n[Site \"Chess.com\"]\\n[Dat...</td>\n",
       "      <td>blitz</td>\n",
       "      <td>https://www.chess.com/game/live/140218326164</td>\n",
       "      <td>2025-07-01</td>\n",
       "      <td>0    A40\n",
       "Name: ECO, dtype: object</td>\n",
       "      <td>jay_fh</td>\n",
       "      <td>djsanil</td>\n",
       "      <td>1/2-1/2</td>\n",
       "      <td>17:06:01</td>\n",
       "      <td>17:16:14</td>\n",
       "      <td>...</td>\n",
       "      <td>Benoni Defense: Franco-Sicilian Hybrid</td>\n",
       "      <td>10.216667</td>\n",
       "      <td>0</td>\n",
       "      <td>evening 6pm - 6am</td>\n",
       "      <td>white</td>\n",
       "      <td>djsanil</td>\n",
       "      <td>draw</td>\n",
       "      <td>draw by insufficient material</td>\n",
       "      <td>material</td>\n",
       "      <td>Benoni Defense</td>\n",
       "    </tr>\n",
       "  </tbody>\n",
       "</table>\n",
       "<p>5 rows × 34 columns</p>\n",
       "</div>"
      ],
      "text/plain": [
       "                                                 pgn game_class  \\\n",
       "0  [Event \"Live Chess\"]\\n[Site \"Chess.com\"]\\n[Dat...      blitz   \n",
       "1  [Event \"Live Chess\"]\\n[Site \"Chess.com\"]\\n[Dat...      blitz   \n",
       "2  [Event \"Live Chess\"]\\n[Site \"Chess.com\"]\\n[Dat...      blitz   \n",
       "3  [Event \"Live Chess\"]\\n[Site \"Chess.com\"]\\n[Dat...      blitz   \n",
       "4  [Event \"Live Chess\"]\\n[Site \"Chess.com\"]\\n[Dat...      blitz   \n",
       "\n",
       "                                        game_id created_date  \\\n",
       "0  https://www.chess.com/game/live/140202902396   2025-07-01   \n",
       "1  https://www.chess.com/game/live/140206596350   2025-07-01   \n",
       "2  https://www.chess.com/game/live/140206897770   2025-07-01   \n",
       "3  https://www.chess.com/game/live/140218108456   2025-07-01   \n",
       "4  https://www.chess.com/game/live/140218326164   2025-07-01   \n",
       "\n",
       "                             opening white_username black_username  \\\n",
       "0  0    A00\n",
       "Name: ECO, dtype: object     Tofail_Ali         jay_fh   \n",
       "1  0    D53\n",
       "Name: ECO, dtype: object        Margros         jay_fh   \n",
       "2  0    A41\n",
       "Name: ECO, dtype: object         jay_fh     Stivasarev   \n",
       "3  0    D02\n",
       "Name: ECO, dtype: object         jay_fh      hakan1248   \n",
       "4  0    A40\n",
       "Name: ECO, dtype: object         jay_fh        djsanil   \n",
       "\n",
       "  game_result start_time  end_time  ...  \\\n",
       "0         0-1   08:46:07  08:49:14  ...   \n",
       "1         0-1   11:07:55  11:10:43  ...   \n",
       "2         1-0   11:18:28  11:24:18  ...   \n",
       "3         1-0   16:59:35  17:05:56  ...   \n",
       "4     1/2-1/2   17:06:01  17:16:14  ...   \n",
       "\n",
       "                                        opening_name  duration_minutes  \\\n",
       "0                                  Hungarian Opening          3.116667   \n",
       "1  English Opening: Anglo-Indian Defense, Queen's...          2.800000   \n",
       "2                                 Old Indian Defense          5.833333   \n",
       "3                                  Queen's Pawn Game          6.350000   \n",
       "4             Benoni Defense: Franco-Sicilian Hybrid         10.216667   \n",
       "\n",
       "   hour_of_day        time_of_day user_side opponent_username  \\\n",
       "0           15  morning 6am -6 pm     black        Tofail_Ali   \n",
       "1           18  evening 6pm - 6am     black           Margros   \n",
       "2           18  evening 6pm - 6am     white        Stivasarev   \n",
       "3           23                NaN     white         hakan1248   \n",
       "4            0  evening 6pm - 6am     white           djsanil   \n",
       "\n",
       "  game_result_user           termination_category termination_type  \\\n",
       "0              win             win by resignation      resignation   \n",
       "1              win             win by resignation      resignation   \n",
       "2              win             win by resignation      resignation   \n",
       "3              win             win by resignation      resignation   \n",
       "4             draw  draw by insufficient material         material   \n",
       "\n",
       "   simplified_opening  \n",
       "0   Hungarian Opening  \n",
       "1     English Opening  \n",
       "2  Old Indian Defense  \n",
       "3   Queen's Pawn Game  \n",
       "4      Benoni Defense  \n",
       "\n",
       "[5 rows x 34 columns]"
      ]
     },
     "metadata": {},
     "output_type": "display_data"
    },
    {
     "data": {
      "text/plain": [
       "time_of_day\n",
       "morning 6am -6 pm    238\n",
       "evening 6pm - 6am    153\n",
       "Name: count, dtype: int64"
      ]
     },
     "execution_count": 3,
     "metadata": {},
     "output_type": "execute_result"
    }
   ],
   "source": [
    "# Try to detect local timezone and map it to a valid pytz zone\n",
    "try:\n",
    "    import tzlocal  # pip install tzlocal\n",
    "    local_tz_name = tzlocal.get_localzone_name()  # e.g., 'Asia/Jakarta'\n",
    "except:\n",
    "    local_tz_name = \"UTC\"  # fallback\n",
    "\n",
    "# If session_state doesn't have timezone, set it to detected\n",
    "if \"user_timezone\" not in st.session_state:\n",
    "    st.session_state.user_timezone = local_tz_name\n",
    "\n",
    "# Get current time in user's timezone\n",
    "user_timezone = pytz.timezone(st.session_state.user_timezone)\n",
    "\n",
    "\n",
    "\n",
    "df_chess_game = download_data_chess_com('jay_fh',7,8,2025)\n",
    "display (df_chess_game.head() )\n",
    "# st.set_page_config(\n",
    "#     page_title=\"Chess.com Game Analyzer\",\n",
    "#     page_icon=\"♟️\",\n",
    "#     layout=\"wide\",\n",
    "#     initial_sidebar_state=\"expanded\"\n",
    "# )\n",
    "\n",
    "# user_timezone = pytz.timezone(st.session_state.user_timezone)\n",
    "# user_timezone=timezone('Asia/Jakarta')\n",
    "df = pre_analysis_chessgame(df_chess_game, 'jay_fh',user_timezone)\n",
    "display (df.head())\n",
    "\n",
    "timecontrol_counts = df['TimeControl'].value_counts()\n",
    "    # Get the TimeControl values that appear more than 20 times\n",
    "popular_timecontrols = timecontrol_counts[timecontrol_counts > 50].index\n",
    "print (popular_timecontrols)\n",
    "df_final = df[df['TimeControl'].isin(popular_timecontrols)]\n",
    "display (df_final.head())\n",
    "df['time_of_day'].value_counts() \n",
    "# df_chess_game = download_data_chess_com(chesscom_user_id,3,6,2025)\n",
    "    \n",
    "    # games_data = prepare_game_data(df_chess_game)\n",
    "    # total_inserted = insert_to_supabase(games_data)\n",
    "    # print(f\"\\nSuccessfully inserted {total_inserted} out of {len(df_chess_game)} games\")\n",
    "# df = pre_analysis_chessgame(df_chess_game, chesscom_user_id,user_timezone)"
   ]
  },
  {
   "cell_type": "code",
   "execution_count": 16,
   "id": "8c03bd19",
   "metadata": {},
   "outputs": [
    {
     "data": {
      "text/plain": [
       "time_of_day\n",
       "morning    238\n",
       "evening    153\n",
       "Name: count, dtype: int64"
      ]
     },
     "execution_count": 16,
     "metadata": {},
     "output_type": "execute_result"
    }
   ],
   "source": [
    "\n",
    "\n",
    "df.columns\n",
    "\n",
    "# df['created_datetime'].describe()\n",
    "\n",
    "df['elo_category'].value_counts()  # Display the value counts of TimeControl\n",
    "df['time_of_day'].value_counts()  # Display the value counts of TimeControl\n",
    "\n",
    "# time_of_day"
   ]
  },
  {
   "cell_type": "code",
   "execution_count": 40,
   "id": "fa86a704",
   "metadata": {},
   "outputs": [
    {
     "data": {
      "application/vnd.plotly.v1+json": {
       "config": {
        "plotlyServerURL": "https://plot.ly"
       },
       "data": [
        {
         "hovertemplate": "simplified_opening=Benoni Defense<br>year_month_week=%{x}<br>win_rate=%{y}<extra></extra>",
         "legendgroup": "Benoni Defense",
         "line": {
          "color": "#000001",
          "dash": "solid"
         },
         "marker": {
          "symbol": "circle"
         },
         "mode": "lines+markers",
         "name": "Benoni Defense",
         "orientation": "v",
         "showlegend": true,
         "type": "scatter",
         "x": [
          "2025-07-W27",
          "2025-07-W28",
          "2025-07-W29",
          "2025-07-W30",
          "2025-07-W31",
          "2025-08-W31",
          "2025-08-W32",
          "2025-08-W33",
          "2025-08-W34"
         ],
         "xaxis": "x",
         "y": [
          0.4375,
          0.5,
          0.3157894736842105,
          0.6666666666666666,
          0.5,
          0.5,
          0.3125,
          0.6363636363636364,
          0.5
         ],
         "yaxis": "y"
        },
        {
         "hovertemplate": "simplified_opening=Colle System<br>year_month_week=%{x}<br>win_rate=%{y}<extra></extra>",
         "legendgroup": "Colle System",
         "line": {
          "color": "#000002",
          "dash": "solid"
         },
         "marker": {
          "symbol": "circle"
         },
         "mode": "lines+markers",
         "name": "Colle System",
         "orientation": "v",
         "showlegend": true,
         "type": "scatter",
         "x": [
          "2025-07-W27",
          "2025-07-W28",
          "2025-07-W29",
          "2025-07-W30",
          "2025-08-W32",
          "2025-08-W33"
         ],
         "xaxis": "x",
         "y": [
          0,
          0,
          1,
          0.5,
          0,
          0
         ],
         "yaxis": "y"
        },
        {
         "hovertemplate": "simplified_opening=French Defense<br>year_month_week=%{x}<br>win_rate=%{y}<extra></extra>",
         "legendgroup": "French Defense",
         "line": {
          "color": "#000003",
          "dash": "solid"
         },
         "marker": {
          "symbol": "circle"
         },
         "mode": "lines+markers",
         "name": "French Defense",
         "orientation": "v",
         "showlegend": true,
         "type": "scatter",
         "x": [
          "2025-07-W27",
          "2025-07-W28",
          "2025-07-W29",
          "2025-07-W30",
          "2025-07-W31",
          "2025-08-W31",
          "2025-08-W32",
          "2025-08-W33",
          "2025-08-W34"
         ],
         "xaxis": "x",
         "y": [
          0.6666666666666666,
          0.5,
          0.5,
          0.5789473684210527,
          0.5,
          0,
          0.23076923076923078,
          0.5,
          0.6
         ],
         "yaxis": "y"
        },
        {
         "hovertemplate": "simplified_opening=Old Indian Defense<br>year_month_week=%{x}<br>win_rate=%{y}<extra></extra>",
         "legendgroup": "Old Indian Defense",
         "line": {
          "color": "#000004",
          "dash": "solid"
         },
         "marker": {
          "symbol": "circle"
         },
         "mode": "lines+markers",
         "name": "Old Indian Defense",
         "orientation": "v",
         "showlegend": true,
         "type": "scatter",
         "x": [
          "2025-07-W27",
          "2025-07-W29",
          "2025-07-W30",
          "2025-08-W32",
          "2025-08-W33",
          "2025-08-W34"
         ],
         "xaxis": "x",
         "y": [
          1,
          1,
          0,
          0,
          0.6666666666666666,
          0
         ],
         "yaxis": "y"
        },
        {
         "hovertemplate": "simplified_opening=Queen's Pawn Game<br>year_month_week=%{x}<br>win_rate=%{y}<extra></extra>",
         "legendgroup": "Queen's Pawn Game",
         "line": {
          "color": "#000005",
          "dash": "solid"
         },
         "marker": {
          "symbol": "circle"
         },
         "mode": "lines+markers",
         "name": "Queen's Pawn Game",
         "orientation": "v",
         "showlegend": true,
         "type": "scatter",
         "x": [
          "2025-07-W27",
          "2025-07-W28",
          "2025-07-W29",
          "2025-07-W30",
          "2025-07-W31",
          "2025-08-W31",
          "2025-08-W32",
          "2025-08-W33",
          "2025-08-W34"
         ],
         "xaxis": "x",
         "y": [
          0.5714285714285714,
          0.7272727272727273,
          0.375,
          0.45454545454545453,
          0.42857142857142855,
          0.5,
          0.75,
          0.5333333333333333,
          0.4444444444444444
         ],
         "yaxis": "y"
        }
       ],
       "layout": {
        "legend": {
         "title": {
          "text": "simplified_opening"
         },
         "tracegroupgap": 0
        },
        "template": {
         "data": {
          "candlestick": [
           {
            "decreasing": {
             "line": {
              "color": "#000033"
             }
            },
            "increasing": {
             "line": {
              "color": "#000032"
             }
            },
            "type": "candlestick"
           }
          ],
          "contour": [
           {
            "colorscale": [
             [
              0,
              "#000011"
             ],
             [
              0.1111111111111111,
              "#000012"
             ],
             [
              0.2222222222222222,
              "#000013"
             ],
             [
              0.3333333333333333,
              "#000014"
             ],
             [
              0.4444444444444444,
              "#000015"
             ],
             [
              0.5555555555555556,
              "#000016"
             ],
             [
              0.6666666666666666,
              "#000017"
             ],
             [
              0.7777777777777778,
              "#000018"
             ],
             [
              0.8888888888888888,
              "#000019"
             ],
             [
              1,
              "#000020"
             ]
            ],
            "type": "contour"
           }
          ],
          "contourcarpet": [
           {
            "colorscale": [
             [
              0,
              "#000011"
             ],
             [
              0.1111111111111111,
              "#000012"
             ],
             [
              0.2222222222222222,
              "#000013"
             ],
             [
              0.3333333333333333,
              "#000014"
             ],
             [
              0.4444444444444444,
              "#000015"
             ],
             [
              0.5555555555555556,
              "#000016"
             ],
             [
              0.6666666666666666,
              "#000017"
             ],
             [
              0.7777777777777778,
              "#000018"
             ],
             [
              0.8888888888888888,
              "#000019"
             ],
             [
              1,
              "#000020"
             ]
            ],
            "type": "contourcarpet"
           }
          ],
          "heatmap": [
           {
            "colorscale": [
             [
              0,
              "#000011"
             ],
             [
              0.1111111111111111,
              "#000012"
             ],
             [
              0.2222222222222222,
              "#000013"
             ],
             [
              0.3333333333333333,
              "#000014"
             ],
             [
              0.4444444444444444,
              "#000015"
             ],
             [
              0.5555555555555556,
              "#000016"
             ],
             [
              0.6666666666666666,
              "#000017"
             ],
             [
              0.7777777777777778,
              "#000018"
             ],
             [
              0.8888888888888888,
              "#000019"
             ],
             [
              1,
              "#000020"
             ]
            ],
            "type": "heatmap"
           }
          ],
          "histogram2d": [
           {
            "colorscale": [
             [
              0,
              "#000011"
             ],
             [
              0.1111111111111111,
              "#000012"
             ],
             [
              0.2222222222222222,
              "#000013"
             ],
             [
              0.3333333333333333,
              "#000014"
             ],
             [
              0.4444444444444444,
              "#000015"
             ],
             [
              0.5555555555555556,
              "#000016"
             ],
             [
              0.6666666666666666,
              "#000017"
             ],
             [
              0.7777777777777778,
              "#000018"
             ],
             [
              0.8888888888888888,
              "#000019"
             ],
             [
              1,
              "#000020"
             ]
            ],
            "type": "histogram2d"
           }
          ],
          "icicle": [
           {
            "textfont": {
             "color": "white"
            },
            "type": "icicle"
           }
          ],
          "sankey": [
           {
            "textfont": {
             "color": "#000036"
            },
            "type": "sankey"
           }
          ],
          "scatter": [
           {
            "marker": {
             "line": {
              "width": 0
             }
            },
            "type": "scatter"
           }
          ],
          "table": [
           {
            "cells": {
             "fill": {
              "color": "#000038"
             },
             "font": {
              "color": "#000037"
             },
             "line": {
              "color": "#000039"
             }
            },
            "header": {
             "fill": {
              "color": "#000040"
             },
             "font": {
              "color": "#000036"
             },
             "line": {
              "color": "#000039"
             }
            },
            "type": "table"
           }
          ],
          "waterfall": [
           {
            "connector": {
             "line": {
              "color": "#000036",
              "width": 2
             }
            },
            "decreasing": {
             "marker": {
              "color": "#000033"
             }
            },
            "increasing": {
             "marker": {
              "color": "#000032"
             }
            },
            "totals": {
             "marker": {
              "color": "#000034"
             }
            },
            "type": "waterfall"
           }
          ]
         },
         "layout": {
          "coloraxis": {
           "colorscale": [
            [
             0,
             "#000011"
            ],
            [
             0.1111111111111111,
             "#000012"
            ],
            [
             0.2222222222222222,
             "#000013"
            ],
            [
             0.3333333333333333,
             "#000014"
            ],
            [
             0.4444444444444444,
             "#000015"
            ],
            [
             0.5555555555555556,
             "#000016"
            ],
            [
             0.6666666666666666,
             "#000017"
            ],
            [
             0.7777777777777778,
             "#000018"
            ],
            [
             0.8888888888888888,
             "#000019"
            ],
            [
             1,
             "#000020"
            ]
           ]
          },
          "colorscale": {
           "diverging": [
            [
             0,
             "#000021"
            ],
            [
             0.1,
             "#000022"
            ],
            [
             0.2,
             "#000023"
            ],
            [
             0.3,
             "#000024"
            ],
            [
             0.4,
             "#000025"
            ],
            [
             0.5,
             "#000026"
            ],
            [
             0.6,
             "#000027"
            ],
            [
             0.7,
             "#000028"
            ],
            [
             0.8,
             "#000029"
            ],
            [
             0.9,
             "#000030"
            ],
            [
             1,
             "#000031"
            ]
           ],
           "sequential": [
            [
             0,
             "#000011"
            ],
            [
             0.1111111111111111,
             "#000012"
            ],
            [
             0.2222222222222222,
             "#000013"
            ],
            [
             0.3333333333333333,
             "#000014"
            ],
            [
             0.4444444444444444,
             "#000015"
            ],
            [
             0.5555555555555556,
             "#000016"
            ],
            [
             0.6666666666666666,
             "#000017"
            ],
            [
             0.7777777777777778,
             "#000018"
            ],
            [
             0.8888888888888888,
             "#000019"
            ],
            [
             1,
             "#000020"
            ]
           ],
           "sequentialminus": [
            [
             0,
             "#000011"
            ],
            [
             0.1111111111111111,
             "#000012"
            ],
            [
             0.2222222222222222,
             "#000013"
            ],
            [
             0.3333333333333333,
             "#000014"
            ],
            [
             0.4444444444444444,
             "#000015"
            ],
            [
             0.5555555555555556,
             "#000016"
            ],
            [
             0.6666666666666666,
             "#000017"
            ],
            [
             0.7777777777777778,
             "#000018"
            ],
            [
             0.8888888888888888,
             "#000019"
            ],
            [
             1,
             "#000020"
            ]
           ]
          },
          "colorway": [
           "#000001",
           "#000002",
           "#000003",
           "#000004",
           "#000005",
           "#000006",
           "#000007",
           "#000008",
           "#000009",
           "#000010"
          ]
         }
        },
        "title": {
         "text": "Win Rate Over Time per Opening"
        },
        "xaxis": {
         "anchor": "y",
         "domain": [
          0,
          1
         ],
         "title": {
          "text": "year_month_week"
         }
        },
        "yaxis": {
         "anchor": "x",
         "domain": [
          0,
          1
         ],
         "title": {
          "text": "win_rate"
         }
        }
       }
      }
     },
     "metadata": {},
     "output_type": "display_data"
    }
   ],
   "source": [
    "top5_opening = df['simplified_opening'].value_counts().head(5).index\n",
    "df_opening = df[df['simplified_opening'].isin(top5_opening)].copy()\n",
    "df_opening[\"is_win\"] = (df_opening[\"game_result_user\"] == \"win\").astype(int)\n",
    "df_opening[\"year_month_week\"] = df_opening[\"created_datetime\"].dt.strftime(\"%Y-%m\") + \"-W\" + df[\"created_datetime\"].dt.isocalendar().week.astype(str)\n",
    "\n",
    "df_summary_opening = df_opening.groupby(['year_month_week', 'simplified_opening']).agg(\n",
    "    win_rate=('is_win', 'mean'),\n",
    "    total_games=('is_win', 'count')\n",
    ").reset_index()\n",
    "\n",
    "\n",
    "fig = px.line(\n",
    "    df_summary_opening,\n",
    "    x=\"year_month_week\",\n",
    "    y=\"win_rate\",\n",
    "    color=\"simplified_opening\",\n",
    "    markers=True,\n",
    "    title=\"Win Rate Over Time per Opening\"\n",
    ")\n",
    "\n",
    "fig.show()\n",
    "\n",
    "\n"
   ]
  },
  {
   "cell_type": "code",
   "execution_count": 19,
   "id": "f0f58364",
   "metadata": {},
   "outputs": [
    {
     "ename": "ValueError",
     "evalue": "Value of 'y' is not the name of a column in 'data_frame'. Expected one of ['pgn', 'game_class', 'game_id', 'created_date', 'opening', 'white_username', 'black_username', 'game_result', 'start_time', 'end_time', 'termination', 'white_elo', 'black_elo', 'TimeControl', 'created_week', 'start_time_dtformat', 'end_time_dtformat', 'created_datetime', 'local_datetime', 'winner_side', 'winner_user', 'opponent_elo', 'your_elo', 'elo_category', 'opening_name', 'duration_minutes', 'hour_of_day', 'time_of_day', 'user_side', 'opponent_username', 'game_result_user', 'termination_category', 'termination_type', 'simplified_opening'] but received: cum_win_rate",
     "output_type": "error",
     "traceback": [
      "\u001b[0;31m---------------------------------------------------------------------------\u001b[0m",
      "\u001b[0;31mValueError\u001b[0m                                Traceback (most recent call last)",
      "Cell \u001b[0;32mIn[19], line 18\u001b[0m\n\u001b[1;32m     15\u001b[0m df_opening[\u001b[38;5;124m\"\u001b[39m\u001b[38;5;124mcum_wins\u001b[39m\u001b[38;5;124m\"\u001b[39m]\n\u001b[1;32m     16\u001b[0m \u001b[38;5;66;03m# df_opening[\"cum_win_rate\"] = df_opening[\"cum_wins\"] / df[\"games_count\"] * 100\u001b[39;00m\n\u001b[0;32m---> 18\u001b[0m fig \u001b[38;5;241m=\u001b[39m px\u001b[38;5;241m.\u001b[39mline(\n\u001b[1;32m     19\u001b[0m     df,\n\u001b[1;32m     20\u001b[0m     x\u001b[38;5;241m=\u001b[39m\u001b[38;5;124m\"\u001b[39m\u001b[38;5;124mcreated_datetime\u001b[39m\u001b[38;5;124m\"\u001b[39m,\n\u001b[1;32m     21\u001b[0m     y\u001b[38;5;241m=\u001b[39m\u001b[38;5;124m\"\u001b[39m\u001b[38;5;124mcum_win_rate\u001b[39m\u001b[38;5;124m\"\u001b[39m,\n\u001b[1;32m     22\u001b[0m     color\u001b[38;5;241m=\u001b[39m\u001b[38;5;124m\"\u001b[39m\u001b[38;5;124msimplified_opening\u001b[39m\u001b[38;5;124m\"\u001b[39m,\n\u001b[1;32m     23\u001b[0m     markers\u001b[38;5;241m=\u001b[39m\u001b[38;5;28;01mTrue\u001b[39;00m,\n\u001b[1;32m     24\u001b[0m     title\u001b[38;5;241m=\u001b[39m\u001b[38;5;124m\"\u001b[39m\u001b[38;5;124mWin Rate Over Time per Opening\u001b[39m\u001b[38;5;124m\"\u001b[39m\n\u001b[1;32m     25\u001b[0m )\n\u001b[1;32m     27\u001b[0m fig\u001b[38;5;241m.\u001b[39mupdate_layout(\n\u001b[1;32m     28\u001b[0m     xaxis_title\u001b[38;5;241m=\u001b[39m\u001b[38;5;124m\"\u001b[39m\u001b[38;5;124mDate\u001b[39m\u001b[38;5;124m\"\u001b[39m,\n\u001b[1;32m     29\u001b[0m     yaxis_title\u001b[38;5;241m=\u001b[39m\u001b[38;5;124m\"\u001b[39m\u001b[38;5;124mCumulative Win Rate (\u001b[39m\u001b[38;5;124m%\u001b[39m\u001b[38;5;124m)\u001b[39m\u001b[38;5;124m\"\u001b[39m,\n\u001b[1;32m     30\u001b[0m     legend_title\u001b[38;5;241m=\u001b[39m\u001b[38;5;124m\"\u001b[39m\u001b[38;5;124mOpening\u001b[39m\u001b[38;5;124m\"\u001b[39m\n\u001b[1;32m     31\u001b[0m )\n\u001b[1;32m     33\u001b[0m fig\u001b[38;5;241m.\u001b[39mshow()\n",
      "File \u001b[0;32m/opt/anaconda3/lib/python3.12/site-packages/plotly/express/_chart_types.py:264\u001b[0m, in \u001b[0;36mline\u001b[0;34m(data_frame, x, y, line_group, color, line_dash, symbol, hover_name, hover_data, custom_data, text, facet_row, facet_col, facet_col_wrap, facet_row_spacing, facet_col_spacing, error_x, error_x_minus, error_y, error_y_minus, animation_frame, animation_group, category_orders, labels, orientation, color_discrete_sequence, color_discrete_map, line_dash_sequence, line_dash_map, symbol_sequence, symbol_map, markers, log_x, log_y, range_x, range_y, line_shape, render_mode, title, template, width, height)\u001b[0m\n\u001b[1;32m    216\u001b[0m \u001b[38;5;28;01mdef\u001b[39;00m \u001b[38;5;21mline\u001b[39m(\n\u001b[1;32m    217\u001b[0m     data_frame\u001b[38;5;241m=\u001b[39m\u001b[38;5;28;01mNone\u001b[39;00m,\n\u001b[1;32m    218\u001b[0m     x\u001b[38;5;241m=\u001b[39m\u001b[38;5;28;01mNone\u001b[39;00m,\n\u001b[0;32m   (...)\u001b[0m\n\u001b[1;32m    258\u001b[0m     height\u001b[38;5;241m=\u001b[39m\u001b[38;5;28;01mNone\u001b[39;00m,\n\u001b[1;32m    259\u001b[0m ) \u001b[38;5;241m-\u001b[39m\u001b[38;5;241m>\u001b[39m go\u001b[38;5;241m.\u001b[39mFigure:\n\u001b[1;32m    260\u001b[0m \u001b[38;5;250m    \u001b[39m\u001b[38;5;124;03m\"\"\"\u001b[39;00m\n\u001b[1;32m    261\u001b[0m \u001b[38;5;124;03m    In a 2D line plot, each row of `data_frame` is represented as vertex of\u001b[39;00m\n\u001b[1;32m    262\u001b[0m \u001b[38;5;124;03m    a polyline mark in 2D space.\u001b[39;00m\n\u001b[1;32m    263\u001b[0m \u001b[38;5;124;03m    \"\"\"\u001b[39;00m\n\u001b[0;32m--> 264\u001b[0m     \u001b[38;5;28;01mreturn\u001b[39;00m make_figure(args\u001b[38;5;241m=\u001b[39m\u001b[38;5;28mlocals\u001b[39m(), constructor\u001b[38;5;241m=\u001b[39mgo\u001b[38;5;241m.\u001b[39mScatter)\n",
      "File \u001b[0;32m/opt/anaconda3/lib/python3.12/site-packages/plotly/express/_core.py:2117\u001b[0m, in \u001b[0;36mmake_figure\u001b[0;34m(args, constructor, trace_patch, layout_patch)\u001b[0m\n\u001b[1;32m   2114\u001b[0m layout_patch \u001b[38;5;241m=\u001b[39m layout_patch \u001b[38;5;129;01mor\u001b[39;00m {}\n\u001b[1;32m   2115\u001b[0m apply_default_cascade(args)\n\u001b[0;32m-> 2117\u001b[0m args \u001b[38;5;241m=\u001b[39m build_dataframe(args, constructor)\n\u001b[1;32m   2118\u001b[0m \u001b[38;5;28;01mif\u001b[39;00m constructor \u001b[38;5;129;01min\u001b[39;00m [go\u001b[38;5;241m.\u001b[39mTreemap, go\u001b[38;5;241m.\u001b[39mSunburst, go\u001b[38;5;241m.\u001b[39mIcicle] \u001b[38;5;129;01mand\u001b[39;00m args[\u001b[38;5;124m\"\u001b[39m\u001b[38;5;124mpath\u001b[39m\u001b[38;5;124m\"\u001b[39m] \u001b[38;5;129;01mis\u001b[39;00m \u001b[38;5;129;01mnot\u001b[39;00m \u001b[38;5;28;01mNone\u001b[39;00m:\n\u001b[1;32m   2119\u001b[0m     args \u001b[38;5;241m=\u001b[39m process_dataframe_hierarchy(args)\n",
      "File \u001b[0;32m/opt/anaconda3/lib/python3.12/site-packages/plotly/express/_core.py:1513\u001b[0m, in \u001b[0;36mbuild_dataframe\u001b[0;34m(args, constructor)\u001b[0m\n\u001b[1;32m   1510\u001b[0m     args[\u001b[38;5;124m\"\u001b[39m\u001b[38;5;124mcolor\u001b[39m\u001b[38;5;124m\"\u001b[39m] \u001b[38;5;241m=\u001b[39m \u001b[38;5;28;01mNone\u001b[39;00m\n\u001b[1;32m   1511\u001b[0m \u001b[38;5;66;03m# now that things have been prepped, we do the systematic rewriting of `args`\u001b[39;00m\n\u001b[0;32m-> 1513\u001b[0m df_output, wide_id_vars \u001b[38;5;241m=\u001b[39m process_args_into_dataframe(\n\u001b[1;32m   1514\u001b[0m     args, wide_mode, var_name, value_name\n\u001b[1;32m   1515\u001b[0m )\n\u001b[1;32m   1517\u001b[0m \u001b[38;5;66;03m# now that `df_output` exists and `args` contains only references, we complete\u001b[39;00m\n\u001b[1;32m   1518\u001b[0m \u001b[38;5;66;03m# the special-case and wide-mode handling by further rewriting args and/or mutating\u001b[39;00m\n\u001b[1;32m   1519\u001b[0m \u001b[38;5;66;03m# df_output\u001b[39;00m\n\u001b[1;32m   1521\u001b[0m count_name \u001b[38;5;241m=\u001b[39m _escape_col_name(df_output, \u001b[38;5;124m\"\u001b[39m\u001b[38;5;124mcount\u001b[39m\u001b[38;5;124m\"\u001b[39m, [var_name, value_name])\n",
      "File \u001b[0;32m/opt/anaconda3/lib/python3.12/site-packages/plotly/express/_core.py:1234\u001b[0m, in \u001b[0;36mprocess_args_into_dataframe\u001b[0;34m(args, wide_mode, var_name, value_name)\u001b[0m\n\u001b[1;32m   1232\u001b[0m         \u001b[38;5;28;01mif\u001b[39;00m argument \u001b[38;5;241m==\u001b[39m \u001b[38;5;124m\"\u001b[39m\u001b[38;5;124mindex\u001b[39m\u001b[38;5;124m\"\u001b[39m:\n\u001b[1;32m   1233\u001b[0m             err_msg \u001b[38;5;241m+\u001b[39m\u001b[38;5;241m=\u001b[39m \u001b[38;5;124m\"\u001b[39m\u001b[38;5;130;01m\\n\u001b[39;00m\u001b[38;5;124m To use the index, pass it in directly as `df.index`.\u001b[39m\u001b[38;5;124m\"\u001b[39m\n\u001b[0;32m-> 1234\u001b[0m         \u001b[38;5;28;01mraise\u001b[39;00m \u001b[38;5;167;01mValueError\u001b[39;00m(err_msg)\n\u001b[1;32m   1235\u001b[0m \u001b[38;5;28;01melif\u001b[39;00m length \u001b[38;5;129;01mand\u001b[39;00m \u001b[38;5;28mlen\u001b[39m(df_input[argument]) \u001b[38;5;241m!=\u001b[39m length:\n\u001b[1;32m   1236\u001b[0m     \u001b[38;5;28;01mraise\u001b[39;00m \u001b[38;5;167;01mValueError\u001b[39;00m(\n\u001b[1;32m   1237\u001b[0m         \u001b[38;5;124m\"\u001b[39m\u001b[38;5;124mAll arguments should have the same length. \u001b[39m\u001b[38;5;124m\"\u001b[39m\n\u001b[1;32m   1238\u001b[0m         \u001b[38;5;124m\"\u001b[39m\u001b[38;5;124mThe length of column argument `df[\u001b[39m\u001b[38;5;132;01m%s\u001b[39;00m\u001b[38;5;124m]` is \u001b[39m\u001b[38;5;132;01m%d\u001b[39;00m\u001b[38;5;124m, whereas the \u001b[39m\u001b[38;5;124m\"\u001b[39m\n\u001b[0;32m   (...)\u001b[0m\n\u001b[1;32m   1245\u001b[0m         )\n\u001b[1;32m   1246\u001b[0m     )\n",
      "\u001b[0;31mValueError\u001b[0m: Value of 'y' is not the name of a column in 'data_frame'. Expected one of ['pgn', 'game_class', 'game_id', 'created_date', 'opening', 'white_username', 'black_username', 'game_result', 'start_time', 'end_time', 'termination', 'white_elo', 'black_elo', 'TimeControl', 'created_week', 'start_time_dtformat', 'end_time_dtformat', 'created_datetime', 'local_datetime', 'winner_side', 'winner_user', 'opponent_elo', 'your_elo', 'elo_category', 'opening_name', 'duration_minutes', 'hour_of_day', 'time_of_day', 'user_side', 'opponent_username', 'game_result_user', 'termination_category', 'termination_type', 'simplified_opening'] but received: cum_win_rate"
     ]
    }
   ],
   "source": [
    "top5_opening = df['simplified_opening'].value_counts().head(5).index\n",
    "\n",
    "df_opening = df[df['simplified_opening'].isin(top5_opening)].copy()\n",
    "# df_opening\n",
    "\n",
    "\n",
    "df_opening[\"is_win\"] = (df_opening[\"game_result_user\"] == \"win\").astype(int)\n",
    "df_opening['is_win']\n",
    "\n",
    "# ---- Calculate cumulative win rate per opening over time ----\n",
    "# df_opening = df.sort_values(\"created_datetime\")\n",
    "\n",
    "df_opening[\"games_count\"] = df_opening.groupby(\"simplified_opening\").cumcount() + 1\n",
    "df_opening[\"cum_wins\"] = df_opening.groupby(\"simplified_opening\")[\"is_win\"].cumsum()\n",
    "df_opening[\"cum_wins\"]\n",
    "# df_opening[\"cum_win_rate\"] = df_opening[\"cum_wins\"] / df[\"games_count\"] * 100\n",
    "\n",
    "fig = px.line(\n",
    "    df,\n",
    "    x=\"created_datetime\",\n",
    "    y=\"cum_win_rate\",\n",
    "    color=\"simplified_opening\",\n",
    "    markers=True,\n",
    "    title=\"Win Rate Over Time per Opening\"\n",
    ")\n",
    "\n",
    "fig.update_layout(\n",
    "    xaxis_title=\"Date\",\n",
    "    yaxis_title=\"Cumulative Win Rate (%)\",\n",
    "    legend_title=\"Opening\"\n",
    ")\n",
    "\n",
    "fig.show()\n",
    "\n",
    "# ---- Streamlit Render ----\n",
    "# st.title(\"♟️ Opening Performance Over Time\")\n",
    "\n",
    "# st.plotly_chart(fig, use_container_width=True)\n"
   ]
  },
  {
   "cell_type": "code",
   "execution_count": 45,
   "id": "017a9a29",
   "metadata": {},
   "outputs": [
    {
     "data": {
      "text/plain": [
       "0      morning\n",
       "1      evening\n",
       "2      evening\n",
       "3          NaN\n",
       "4      evening\n",
       "        ...   \n",
       "347    evening\n",
       "348    evening\n",
       "349    evening\n",
       "350    evening\n",
       "351    evening\n",
       "Name: time_of_day, Length: 352, dtype: category\n",
       "Categories (2, object): ['evening', 'morning']"
      ]
     },
     "execution_count": 45,
     "metadata": {},
     "output_type": "execute_result"
    }
   ],
   "source": [
    "df['time_of_day'] "
   ]
  },
  {
   "cell_type": "code",
   "execution_count": 46,
   "id": "6fec7a3a",
   "metadata": {},
   "outputs": [
    {
     "data": {
      "text/html": [
       "<div>\n",
       "<style scoped>\n",
       "    .dataframe tbody tr th:only-of-type {\n",
       "        vertical-align: middle;\n",
       "    }\n",
       "\n",
       "    .dataframe tbody tr th {\n",
       "        vertical-align: top;\n",
       "    }\n",
       "\n",
       "    .dataframe thead th {\n",
       "        text-align: right;\n",
       "    }\n",
       "</style>\n",
       "<table border=\"1\" class=\"dataframe\">\n",
       "  <thead>\n",
       "    <tr style=\"text-align: right;\">\n",
       "      <th></th>\n",
       "      <th>pgn</th>\n",
       "      <th>game_class</th>\n",
       "      <th>game_id</th>\n",
       "      <th>created_date</th>\n",
       "      <th>opening</th>\n",
       "      <th>white_username</th>\n",
       "      <th>black_username</th>\n",
       "      <th>game_result</th>\n",
       "      <th>start_time</th>\n",
       "      <th>end_time</th>\n",
       "      <th>...</th>\n",
       "      <th>opening_name</th>\n",
       "      <th>duration_minutes</th>\n",
       "      <th>hour_of_day</th>\n",
       "      <th>time_of_day</th>\n",
       "      <th>user_side</th>\n",
       "      <th>opponent_username</th>\n",
       "      <th>game_result_user</th>\n",
       "      <th>termination_category</th>\n",
       "      <th>termination_type</th>\n",
       "      <th>simplified_opening</th>\n",
       "    </tr>\n",
       "  </thead>\n",
       "  <tbody>\n",
       "    <tr>\n",
       "      <th>0</th>\n",
       "      <td>[Event \"Live Chess\"]\\n[Site \"Chess.com\"]\\n[Dat...</td>\n",
       "      <td>blitz</td>\n",
       "      <td>https://www.chess.com/game/live/140202902396</td>\n",
       "      <td>2025-07-01</td>\n",
       "      <td>0    A00\n",
       "Name: ECO, dtype: object</td>\n",
       "      <td>Tofail_Ali</td>\n",
       "      <td>jay_fh</td>\n",
       "      <td>0-1</td>\n",
       "      <td>08:46:07</td>\n",
       "      <td>08:49:14</td>\n",
       "      <td>...</td>\n",
       "      <td>Hungarian Opening</td>\n",
       "      <td>3.116667</td>\n",
       "      <td>15</td>\n",
       "      <td>morning</td>\n",
       "      <td>black</td>\n",
       "      <td>Tofail_Ali</td>\n",
       "      <td>win</td>\n",
       "      <td>win by resignation</td>\n",
       "      <td>resignation</td>\n",
       "      <td>Hungarian Opening</td>\n",
       "    </tr>\n",
       "    <tr>\n",
       "      <th>9</th>\n",
       "      <td>[Event \"Live Chess\"]\\n[Site \"Chess.com\"]\\n[Dat...</td>\n",
       "      <td>blitz</td>\n",
       "      <td>https://www.chess.com/game/live/140232229354</td>\n",
       "      <td>2025-07-02</td>\n",
       "      <td>0    A01\n",
       "Name: ECO, dtype: object</td>\n",
       "      <td>levak53</td>\n",
       "      <td>jay_fh</td>\n",
       "      <td>0-1</td>\n",
       "      <td>02:27:07</td>\n",
       "      <td>02:32:25</td>\n",
       "      <td>...</td>\n",
       "      <td>Bird Opening</td>\n",
       "      <td>5.300000</td>\n",
       "      <td>9</td>\n",
       "      <td>morning</td>\n",
       "      <td>black</td>\n",
       "      <td>levak53</td>\n",
       "      <td>win</td>\n",
       "      <td>win by resignation</td>\n",
       "      <td>resignation</td>\n",
       "      <td>Bird Opening</td>\n",
       "    </tr>\n",
       "    <tr>\n",
       "      <th>10</th>\n",
       "      <td>[Event \"Live Chess\"]\\n[Site \"Chess.com\"]\\n[Dat...</td>\n",
       "      <td>blitz</td>\n",
       "      <td>https://www.chess.com/game/live/140232324824</td>\n",
       "      <td>2025-07-02</td>\n",
       "      <td>0    C00\n",
       "Name: ECO, dtype: object</td>\n",
       "      <td>misterDM</td>\n",
       "      <td>jay_fh</td>\n",
       "      <td>1-0</td>\n",
       "      <td>02:32:33</td>\n",
       "      <td>02:41:46</td>\n",
       "      <td>...</td>\n",
       "      <td>King's Indian Attack: Sicilian Variation</td>\n",
       "      <td>9.216667</td>\n",
       "      <td>9</td>\n",
       "      <td>morning</td>\n",
       "      <td>black</td>\n",
       "      <td>misterDM</td>\n",
       "      <td>lose</td>\n",
       "      <td>lose by time_win</td>\n",
       "      <td>time_win</td>\n",
       "      <td>King's Indian Attack</td>\n",
       "    </tr>\n",
       "    <tr>\n",
       "      <th>11</th>\n",
       "      <td>[Event \"Live Chess\"]\\n[Site \"Chess.com\"]\\n[Dat...</td>\n",
       "      <td>blitz</td>\n",
       "      <td>https://www.chess.com/game/live/140232490628</td>\n",
       "      <td>2025-07-02</td>\n",
       "      <td>0    E40\n",
       "Name: ECO, dtype: object</td>\n",
       "      <td>jay_fh</td>\n",
       "      <td>fajarjajuli</td>\n",
       "      <td>0-1</td>\n",
       "      <td>02:42:00</td>\n",
       "      <td>02:45:21</td>\n",
       "      <td>...</td>\n",
       "      <td>Benoni Defense: Franco-Sicilian Hybrid</td>\n",
       "      <td>3.350000</td>\n",
       "      <td>9</td>\n",
       "      <td>morning</td>\n",
       "      <td>white</td>\n",
       "      <td>fajarjajuli</td>\n",
       "      <td>lose</td>\n",
       "      <td>lose by checkmate</td>\n",
       "      <td>checkmate</td>\n",
       "      <td>Benoni Defense</td>\n",
       "    </tr>\n",
       "    <tr>\n",
       "      <th>18</th>\n",
       "      <td>[Event \"Live Chess\"]\\n[Site \"Chess.com\"]\\n[Dat...</td>\n",
       "      <td>blitz</td>\n",
       "      <td>https://www.chess.com/game/live/140272749782</td>\n",
       "      <td>2025-07-03</td>\n",
       "      <td>0    C00\n",
       "Name: ECO, dtype: object</td>\n",
       "      <td>mohitsinghchauhan</td>\n",
       "      <td>jay_fh</td>\n",
       "      <td>0-1</td>\n",
       "      <td>05:44:15</td>\n",
       "      <td>05:49:45</td>\n",
       "      <td>...</td>\n",
       "      <td>French Defense: La Bourdonnais Variation, Reut...</td>\n",
       "      <td>5.500000</td>\n",
       "      <td>12</td>\n",
       "      <td>morning</td>\n",
       "      <td>black</td>\n",
       "      <td>mohitsinghchauhan</td>\n",
       "      <td>win</td>\n",
       "      <td>win by checkmate</td>\n",
       "      <td>checkmate</td>\n",
       "      <td>French Defense</td>\n",
       "    </tr>\n",
       "  </tbody>\n",
       "</table>\n",
       "<p>5 rows × 34 columns</p>\n",
       "</div>"
      ],
      "text/plain": [
       "                                                  pgn game_class  \\\n",
       "0   [Event \"Live Chess\"]\\n[Site \"Chess.com\"]\\n[Dat...      blitz   \n",
       "9   [Event \"Live Chess\"]\\n[Site \"Chess.com\"]\\n[Dat...      blitz   \n",
       "10  [Event \"Live Chess\"]\\n[Site \"Chess.com\"]\\n[Dat...      blitz   \n",
       "11  [Event \"Live Chess\"]\\n[Site \"Chess.com\"]\\n[Dat...      blitz   \n",
       "18  [Event \"Live Chess\"]\\n[Site \"Chess.com\"]\\n[Dat...      blitz   \n",
       "\n",
       "                                         game_id created_date  \\\n",
       "0   https://www.chess.com/game/live/140202902396   2025-07-01   \n",
       "9   https://www.chess.com/game/live/140232229354   2025-07-02   \n",
       "10  https://www.chess.com/game/live/140232324824   2025-07-02   \n",
       "11  https://www.chess.com/game/live/140232490628   2025-07-02   \n",
       "18  https://www.chess.com/game/live/140272749782   2025-07-03   \n",
       "\n",
       "                              opening     white_username black_username  \\\n",
       "0   0    A00\n",
       "Name: ECO, dtype: object         Tofail_Ali         jay_fh   \n",
       "9   0    A01\n",
       "Name: ECO, dtype: object            levak53         jay_fh   \n",
       "10  0    C00\n",
       "Name: ECO, dtype: object           misterDM         jay_fh   \n",
       "11  0    E40\n",
       "Name: ECO, dtype: object             jay_fh    fajarjajuli   \n",
       "18  0    C00\n",
       "Name: ECO, dtype: object  mohitsinghchauhan         jay_fh   \n",
       "\n",
       "   game_result start_time  end_time  ...  \\\n",
       "0          0-1   08:46:07  08:49:14  ...   \n",
       "9          0-1   02:27:07  02:32:25  ...   \n",
       "10         1-0   02:32:33  02:41:46  ...   \n",
       "11         0-1   02:42:00  02:45:21  ...   \n",
       "18         0-1   05:44:15  05:49:45  ...   \n",
       "\n",
       "                                         opening_name  duration_minutes  \\\n",
       "0                                   Hungarian Opening          3.116667   \n",
       "9                                        Bird Opening          5.300000   \n",
       "10           King's Indian Attack: Sicilian Variation          9.216667   \n",
       "11             Benoni Defense: Franco-Sicilian Hybrid          3.350000   \n",
       "18  French Defense: La Bourdonnais Variation, Reut...          5.500000   \n",
       "\n",
       "    hour_of_day time_of_day user_side  opponent_username game_result_user  \\\n",
       "0            15     morning     black         Tofail_Ali              win   \n",
       "9             9     morning     black            levak53              win   \n",
       "10            9     morning     black           misterDM             lose   \n",
       "11            9     morning     white        fajarjajuli             lose   \n",
       "18           12     morning     black  mohitsinghchauhan              win   \n",
       "\n",
       "   termination_category termination_type    simplified_opening  \n",
       "0    win by resignation      resignation     Hungarian Opening  \n",
       "9    win by resignation      resignation          Bird Opening  \n",
       "10     lose by time_win         time_win  King's Indian Attack  \n",
       "11    lose by checkmate        checkmate        Benoni Defense  \n",
       "18     win by checkmate        checkmate        French Defense  \n",
       "\n",
       "[5 rows x 34 columns]"
      ]
     },
     "metadata": {},
     "output_type": "display_data"
    },
    {
     "data": {
      "text/html": [
       "<div>\n",
       "<style scoped>\n",
       "    .dataframe tbody tr th:only-of-type {\n",
       "        vertical-align: middle;\n",
       "    }\n",
       "\n",
       "    .dataframe tbody tr th {\n",
       "        vertical-align: top;\n",
       "    }\n",
       "\n",
       "    .dataframe thead th {\n",
       "        text-align: right;\n",
       "    }\n",
       "</style>\n",
       "<table border=\"1\" class=\"dataframe\">\n",
       "  <thead>\n",
       "    <tr style=\"text-align: right;\">\n",
       "      <th></th>\n",
       "      <th>pgn</th>\n",
       "      <th>game_class</th>\n",
       "      <th>game_id</th>\n",
       "      <th>created_date</th>\n",
       "      <th>opening</th>\n",
       "      <th>white_username</th>\n",
       "      <th>black_username</th>\n",
       "      <th>game_result</th>\n",
       "      <th>start_time</th>\n",
       "      <th>end_time</th>\n",
       "      <th>...</th>\n",
       "      <th>opening_name</th>\n",
       "      <th>duration_minutes</th>\n",
       "      <th>hour_of_day</th>\n",
       "      <th>time_of_day</th>\n",
       "      <th>user_side</th>\n",
       "      <th>opponent_username</th>\n",
       "      <th>game_result_user</th>\n",
       "      <th>termination_category</th>\n",
       "      <th>termination_type</th>\n",
       "      <th>simplified_opening</th>\n",
       "    </tr>\n",
       "  </thead>\n",
       "  <tbody>\n",
       "    <tr>\n",
       "      <th>1</th>\n",
       "      <td>[Event \"Live Chess\"]\\n[Site \"Chess.com\"]\\n[Dat...</td>\n",
       "      <td>blitz</td>\n",
       "      <td>https://www.chess.com/game/live/140206596350</td>\n",
       "      <td>2025-07-01</td>\n",
       "      <td>0    D53\n",
       "Name: ECO, dtype: object</td>\n",
       "      <td>Margros</td>\n",
       "      <td>jay_fh</td>\n",
       "      <td>0-1</td>\n",
       "      <td>11:07:55</td>\n",
       "      <td>11:10:43</td>\n",
       "      <td>...</td>\n",
       "      <td>English Opening: Anglo-Indian Defense, Queen's...</td>\n",
       "      <td>2.800000</td>\n",
       "      <td>18</td>\n",
       "      <td>evening</td>\n",
       "      <td>black</td>\n",
       "      <td>Margros</td>\n",
       "      <td>win</td>\n",
       "      <td>win by resignation</td>\n",
       "      <td>resignation</td>\n",
       "      <td>English Opening</td>\n",
       "    </tr>\n",
       "    <tr>\n",
       "      <th>2</th>\n",
       "      <td>[Event \"Live Chess\"]\\n[Site \"Chess.com\"]\\n[Dat...</td>\n",
       "      <td>blitz</td>\n",
       "      <td>https://www.chess.com/game/live/140206897770</td>\n",
       "      <td>2025-07-01</td>\n",
       "      <td>0    A41\n",
       "Name: ECO, dtype: object</td>\n",
       "      <td>jay_fh</td>\n",
       "      <td>Stivasarev</td>\n",
       "      <td>1-0</td>\n",
       "      <td>11:18:28</td>\n",
       "      <td>11:24:18</td>\n",
       "      <td>...</td>\n",
       "      <td>Old Indian Defense</td>\n",
       "      <td>5.833333</td>\n",
       "      <td>18</td>\n",
       "      <td>evening</td>\n",
       "      <td>white</td>\n",
       "      <td>Stivasarev</td>\n",
       "      <td>win</td>\n",
       "      <td>win by resignation</td>\n",
       "      <td>resignation</td>\n",
       "      <td>Old Indian Defense</td>\n",
       "    </tr>\n",
       "    <tr>\n",
       "      <th>4</th>\n",
       "      <td>[Event \"Live Chess\"]\\n[Site \"Chess.com\"]\\n[Dat...</td>\n",
       "      <td>blitz</td>\n",
       "      <td>https://www.chess.com/game/live/140218326164</td>\n",
       "      <td>2025-07-01</td>\n",
       "      <td>0    A40\n",
       "Name: ECO, dtype: object</td>\n",
       "      <td>jay_fh</td>\n",
       "      <td>djsanil</td>\n",
       "      <td>1/2-1/2</td>\n",
       "      <td>17:06:01</td>\n",
       "      <td>17:16:14</td>\n",
       "      <td>...</td>\n",
       "      <td>Benoni Defense: Franco-Sicilian Hybrid</td>\n",
       "      <td>10.216667</td>\n",
       "      <td>0</td>\n",
       "      <td>evening</td>\n",
       "      <td>white</td>\n",
       "      <td>djsanil</td>\n",
       "      <td>draw</td>\n",
       "      <td>draw by insufficient material</td>\n",
       "      <td>material</td>\n",
       "      <td>Benoni Defense</td>\n",
       "    </tr>\n",
       "    <tr>\n",
       "      <th>5</th>\n",
       "      <td>[Event \"Live Chess\"]\\n[Site \"Chess.com\"]\\n[Dat...</td>\n",
       "      <td>blitz</td>\n",
       "      <td>https://www.chess.com/game/live/140218677448</td>\n",
       "      <td>2025-07-01</td>\n",
       "      <td>0    D00\n",
       "Name: ECO, dtype: object</td>\n",
       "      <td>djpsdavid</td>\n",
       "      <td>jay_fh</td>\n",
       "      <td>0-1</td>\n",
       "      <td>17:16:22</td>\n",
       "      <td>17:19:31</td>\n",
       "      <td>...</td>\n",
       "      <td>Benoni Defense: Franco-Sicilian Hybrid</td>\n",
       "      <td>3.150000</td>\n",
       "      <td>0</td>\n",
       "      <td>evening</td>\n",
       "      <td>black</td>\n",
       "      <td>djpsdavid</td>\n",
       "      <td>win</td>\n",
       "      <td>win by resignation</td>\n",
       "      <td>resignation</td>\n",
       "      <td>Benoni Defense</td>\n",
       "    </tr>\n",
       "    <tr>\n",
       "      <th>6</th>\n",
       "      <td>[Event \"Live Chess\"]\\n[Site \"Chess.com\"]\\n[Dat...</td>\n",
       "      <td>blitz</td>\n",
       "      <td>https://www.chess.com/game/live/140218824468</td>\n",
       "      <td>2025-07-01</td>\n",
       "      <td>0    D44\n",
       "Name: ECO, dtype: object</td>\n",
       "      <td>sycylianos</td>\n",
       "      <td>jay_fh</td>\n",
       "      <td>1/2-1/2</td>\n",
       "      <td>17:20:43</td>\n",
       "      <td>17:27:57</td>\n",
       "      <td>...</td>\n",
       "      <td>Benoni Defense: Franco-Sicilian Hybrid</td>\n",
       "      <td>7.233333</td>\n",
       "      <td>0</td>\n",
       "      <td>evening</td>\n",
       "      <td>black</td>\n",
       "      <td>sycylianos</td>\n",
       "      <td>draw</td>\n",
       "      <td>draw by repetition</td>\n",
       "      <td>repetition</td>\n",
       "      <td>Benoni Defense</td>\n",
       "    </tr>\n",
       "  </tbody>\n",
       "</table>\n",
       "<p>5 rows × 34 columns</p>\n",
       "</div>"
      ],
      "text/plain": [
       "                                                 pgn game_class  \\\n",
       "1  [Event \"Live Chess\"]\\n[Site \"Chess.com\"]\\n[Dat...      blitz   \n",
       "2  [Event \"Live Chess\"]\\n[Site \"Chess.com\"]\\n[Dat...      blitz   \n",
       "4  [Event \"Live Chess\"]\\n[Site \"Chess.com\"]\\n[Dat...      blitz   \n",
       "5  [Event \"Live Chess\"]\\n[Site \"Chess.com\"]\\n[Dat...      blitz   \n",
       "6  [Event \"Live Chess\"]\\n[Site \"Chess.com\"]\\n[Dat...      blitz   \n",
       "\n",
       "                                        game_id created_date  \\\n",
       "1  https://www.chess.com/game/live/140206596350   2025-07-01   \n",
       "2  https://www.chess.com/game/live/140206897770   2025-07-01   \n",
       "4  https://www.chess.com/game/live/140218326164   2025-07-01   \n",
       "5  https://www.chess.com/game/live/140218677448   2025-07-01   \n",
       "6  https://www.chess.com/game/live/140218824468   2025-07-01   \n",
       "\n",
       "                             opening white_username black_username  \\\n",
       "1  0    D53\n",
       "Name: ECO, dtype: object        Margros         jay_fh   \n",
       "2  0    A41\n",
       "Name: ECO, dtype: object         jay_fh     Stivasarev   \n",
       "4  0    A40\n",
       "Name: ECO, dtype: object         jay_fh        djsanil   \n",
       "5  0    D00\n",
       "Name: ECO, dtype: object      djpsdavid         jay_fh   \n",
       "6  0    D44\n",
       "Name: ECO, dtype: object     sycylianos         jay_fh   \n",
       "\n",
       "  game_result start_time  end_time  ...  \\\n",
       "1         0-1   11:07:55  11:10:43  ...   \n",
       "2         1-0   11:18:28  11:24:18  ...   \n",
       "4     1/2-1/2   17:06:01  17:16:14  ...   \n",
       "5         0-1   17:16:22  17:19:31  ...   \n",
       "6     1/2-1/2   17:20:43  17:27:57  ...   \n",
       "\n",
       "                                        opening_name  duration_minutes  \\\n",
       "1  English Opening: Anglo-Indian Defense, Queen's...          2.800000   \n",
       "2                                 Old Indian Defense          5.833333   \n",
       "4             Benoni Defense: Franco-Sicilian Hybrid         10.216667   \n",
       "5             Benoni Defense: Franco-Sicilian Hybrid          3.150000   \n",
       "6             Benoni Defense: Franco-Sicilian Hybrid          7.233333   \n",
       "\n",
       "   hour_of_day time_of_day user_side opponent_username game_result_user  \\\n",
       "1           18     evening     black           Margros              win   \n",
       "2           18     evening     white        Stivasarev              win   \n",
       "4            0     evening     white           djsanil             draw   \n",
       "5            0     evening     black         djpsdavid              win   \n",
       "6            0     evening     black        sycylianos             draw   \n",
       "\n",
       "            termination_category termination_type  simplified_opening  \n",
       "1             win by resignation      resignation     English Opening  \n",
       "2             win by resignation      resignation  Old Indian Defense  \n",
       "4  draw by insufficient material         material      Benoni Defense  \n",
       "5             win by resignation      resignation      Benoni Defense  \n",
       "6             draw by repetition       repetition      Benoni Defense  \n",
       "\n",
       "[5 rows x 34 columns]"
      ]
     },
     "metadata": {},
     "output_type": "display_data"
    }
   ],
   "source": [
    "if 'time_of_day' in df.columns:\n",
    "    for tod in ['morning', 'evening']:\n",
    "        tod_df = df[df['time_of_day'] == tod]\n",
    "        display (tod_df.head() )"
   ]
  },
  {
   "cell_type": "code",
   "execution_count": 3,
   "id": "e56b184e",
   "metadata": {},
   "outputs": [
    {
     "ename": "NameError",
     "evalue": "name 'df' is not defined",
     "output_type": "error",
     "traceback": [
      "\u001b[0;31m---------------------------------------------------------------------------\u001b[0m",
      "\u001b[0;31mNameError\u001b[0m                                 Traceback (most recent call last)",
      "Cell \u001b[0;32mIn[3], line 1\u001b[0m\n\u001b[0;32m----> 1\u001b[0m df\n",
      "\u001b[0;31mNameError\u001b[0m: name 'df' is not defined"
     ]
    }
   ],
   "source": [
    "df"
   ]
  },
  {
   "cell_type": "code",
   "execution_count": 6,
   "id": "77aa491d",
   "metadata": {},
   "outputs": [
    {
     "data": {
      "text/plain": [
       "termination_type\n",
       "resignation    207\n",
       "time_win        72\n",
       "checkmate       58\n",
       "abandoned        9\n",
       "repetition       6\n",
       "material         4\n",
       "stalemate        4\n",
       "Name: count, dtype: int64"
      ]
     },
     "metadata": {},
     "output_type": "display_data"
    },
    {
     "data": {
      "text/plain": [
       "termination_category\n",
       "lose by resignation              104\n",
       "win by resignation               103\n",
       "lose by time_win                  36\n",
       "win by time_win                   36\n",
       "win by checkmate                  30\n",
       "lose by checkmate                 28\n",
       "win by abandoned                   8\n",
       "draw by repetition                 6\n",
       "draw by insufficient material      4\n",
       "draw by stalemate                  4\n",
       "lose by abandoned                  1\n",
       "Name: count, dtype: int64"
      ]
     },
     "metadata": {},
     "output_type": "display_data"
    }
   ],
   "source": [
    "# df_chess_game[df_chess_game['TimeControl'] == '1/86400']\n",
    "# df_chess_game.columns\n",
    "display (df['termination_type'].value_counts())\n",
    "display (df['termination_category'].value_counts())"
   ]
  },
  {
   "cell_type": "code",
   "execution_count": 9,
   "id": "f74d614b",
   "metadata": {},
   "outputs": [
    {
     "data": {
      "application/vnd.plotly.v1+json": {
       "config": {
        "plotlyServerURL": "https://plot.ly"
       },
       "data": [
        {
         "domain": {
          "x": [
           0,
           1
          ],
          "y": [
           0,
           1
          ]
         },
         "hovertemplate": "termination_type=%{label}<br>Count=%{value}<extra></extra>",
         "labels": [
          "resignation",
          "time_win",
          "checkmate",
          "abandoned",
          "repetition",
          "material",
          "stalemate"
         ],
         "legendgroup": "",
         "name": "",
         "showlegend": true,
         "type": "pie",
         "values": [
          207,
          72,
          58,
          9,
          6,
          4,
          4
         ]
        }
       ],
       "layout": {
        "legend": {
         "tracegroupgap": 0
        },
        "template": {
         "data": {
          "candlestick": [
           {
            "decreasing": {
             "line": {
              "color": "#000033"
             }
            },
            "increasing": {
             "line": {
              "color": "#000032"
             }
            },
            "type": "candlestick"
           }
          ],
          "contour": [
           {
            "colorscale": [
             [
              0,
              "#000011"
             ],
             [
              0.1111111111111111,
              "#000012"
             ],
             [
              0.2222222222222222,
              "#000013"
             ],
             [
              0.3333333333333333,
              "#000014"
             ],
             [
              0.4444444444444444,
              "#000015"
             ],
             [
              0.5555555555555556,
              "#000016"
             ],
             [
              0.6666666666666666,
              "#000017"
             ],
             [
              0.7777777777777778,
              "#000018"
             ],
             [
              0.8888888888888888,
              "#000019"
             ],
             [
              1,
              "#000020"
             ]
            ],
            "type": "contour"
           }
          ],
          "contourcarpet": [
           {
            "colorscale": [
             [
              0,
              "#000011"
             ],
             [
              0.1111111111111111,
              "#000012"
             ],
             [
              0.2222222222222222,
              "#000013"
             ],
             [
              0.3333333333333333,
              "#000014"
             ],
             [
              0.4444444444444444,
              "#000015"
             ],
             [
              0.5555555555555556,
              "#000016"
             ],
             [
              0.6666666666666666,
              "#000017"
             ],
             [
              0.7777777777777778,
              "#000018"
             ],
             [
              0.8888888888888888,
              "#000019"
             ],
             [
              1,
              "#000020"
             ]
            ],
            "type": "contourcarpet"
           }
          ],
          "heatmap": [
           {
            "colorscale": [
             [
              0,
              "#000011"
             ],
             [
              0.1111111111111111,
              "#000012"
             ],
             [
              0.2222222222222222,
              "#000013"
             ],
             [
              0.3333333333333333,
              "#000014"
             ],
             [
              0.4444444444444444,
              "#000015"
             ],
             [
              0.5555555555555556,
              "#000016"
             ],
             [
              0.6666666666666666,
              "#000017"
             ],
             [
              0.7777777777777778,
              "#000018"
             ],
             [
              0.8888888888888888,
              "#000019"
             ],
             [
              1,
              "#000020"
             ]
            ],
            "type": "heatmap"
           }
          ],
          "histogram2d": [
           {
            "colorscale": [
             [
              0,
              "#000011"
             ],
             [
              0.1111111111111111,
              "#000012"
             ],
             [
              0.2222222222222222,
              "#000013"
             ],
             [
              0.3333333333333333,
              "#000014"
             ],
             [
              0.4444444444444444,
              "#000015"
             ],
             [
              0.5555555555555556,
              "#000016"
             ],
             [
              0.6666666666666666,
              "#000017"
             ],
             [
              0.7777777777777778,
              "#000018"
             ],
             [
              0.8888888888888888,
              "#000019"
             ],
             [
              1,
              "#000020"
             ]
            ],
            "type": "histogram2d"
           }
          ],
          "icicle": [
           {
            "textfont": {
             "color": "white"
            },
            "type": "icicle"
           }
          ],
          "sankey": [
           {
            "textfont": {
             "color": "#000036"
            },
            "type": "sankey"
           }
          ],
          "scatter": [
           {
            "marker": {
             "line": {
              "width": 0
             }
            },
            "type": "scatter"
           }
          ],
          "table": [
           {
            "cells": {
             "fill": {
              "color": "#000038"
             },
             "font": {
              "color": "#000037"
             },
             "line": {
              "color": "#000039"
             }
            },
            "header": {
             "fill": {
              "color": "#000040"
             },
             "font": {
              "color": "#000036"
             },
             "line": {
              "color": "#000039"
             }
            },
            "type": "table"
           }
          ],
          "waterfall": [
           {
            "connector": {
             "line": {
              "color": "#000036",
              "width": 2
             }
            },
            "decreasing": {
             "marker": {
              "color": "#000033"
             }
            },
            "increasing": {
             "marker": {
              "color": "#000032"
             }
            },
            "totals": {
             "marker": {
              "color": "#000034"
             }
            },
            "type": "waterfall"
           }
          ]
         },
         "layout": {
          "coloraxis": {
           "colorscale": [
            [
             0,
             "#000011"
            ],
            [
             0.1111111111111111,
             "#000012"
            ],
            [
             0.2222222222222222,
             "#000013"
            ],
            [
             0.3333333333333333,
             "#000014"
            ],
            [
             0.4444444444444444,
             "#000015"
            ],
            [
             0.5555555555555556,
             "#000016"
            ],
            [
             0.6666666666666666,
             "#000017"
            ],
            [
             0.7777777777777778,
             "#000018"
            ],
            [
             0.8888888888888888,
             "#000019"
            ],
            [
             1,
             "#000020"
            ]
           ]
          },
          "colorscale": {
           "diverging": [
            [
             0,
             "#000021"
            ],
            [
             0.1,
             "#000022"
            ],
            [
             0.2,
             "#000023"
            ],
            [
             0.3,
             "#000024"
            ],
            [
             0.4,
             "#000025"
            ],
            [
             0.5,
             "#000026"
            ],
            [
             0.6,
             "#000027"
            ],
            [
             0.7,
             "#000028"
            ],
            [
             0.8,
             "#000029"
            ],
            [
             0.9,
             "#000030"
            ],
            [
             1,
             "#000031"
            ]
           ],
           "sequential": [
            [
             0,
             "#000011"
            ],
            [
             0.1111111111111111,
             "#000012"
            ],
            [
             0.2222222222222222,
             "#000013"
            ],
            [
             0.3333333333333333,
             "#000014"
            ],
            [
             0.4444444444444444,
             "#000015"
            ],
            [
             0.5555555555555556,
             "#000016"
            ],
            [
             0.6666666666666666,
             "#000017"
            ],
            [
             0.7777777777777778,
             "#000018"
            ],
            [
             0.8888888888888888,
             "#000019"
            ],
            [
             1,
             "#000020"
            ]
           ],
           "sequentialminus": [
            [
             0,
             "#000011"
            ],
            [
             0.1111111111111111,
             "#000012"
            ],
            [
             0.2222222222222222,
             "#000013"
            ],
            [
             0.3333333333333333,
             "#000014"
            ],
            [
             0.4444444444444444,
             "#000015"
            ],
            [
             0.5555555555555556,
             "#000016"
            ],
            [
             0.6666666666666666,
             "#000017"
            ],
            [
             0.7777777777777778,
             "#000018"
            ],
            [
             0.8888888888888888,
             "#000019"
            ],
            [
             1,
             "#000020"
            ]
           ]
          },
          "colorway": [
           "#000001",
           "#000002",
           "#000003",
           "#000004",
           "#000005",
           "#000006",
           "#000007",
           "#000008",
           "#000009",
           "#000010"
          ]
         }
        },
        "title": {
         "text": "win termination types"
        }
       }
      }
     },
     "metadata": {},
     "output_type": "display_data"
    }
   ],
   "source": [
    "termination_counts = df['termination_type'].value_counts().reset_index()\n",
    "termination_counts.columns = ['termination_type', 'Count']\n",
    "fig_draw = px.pie(\n",
    "    termination_counts,\n",
    "    values='Count',\n",
    "    names='termination_type',\n",
    "    title=f'win termination types'\n",
    ")\n",
    "fig_draw.show()"
   ]
  }
 ],
 "metadata": {
  "kernelspec": {
   "display_name": "base",
   "language": "python",
   "name": "python3"
  },
  "language_info": {
   "codemirror_mode": {
    "name": "ipython",
    "version": 3
   },
   "file_extension": ".py",
   "mimetype": "text/x-python",
   "name": "python",
   "nbconvert_exporter": "python",
   "pygments_lexer": "ipython3",
   "version": "3.12.7"
  }
 },
 "nbformat": 4,
 "nbformat_minor": 5
}
